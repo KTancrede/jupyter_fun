import wikipedia
import re
from datetime import datetime
import locale
import numpy as np

celebrities = [
    "Benoit Poelvoorde",
    "Nathalie Baye",
    "Carole Bouquet",
    "Jacques Dutronc",
    "Charlotte Rampling",
    "Nadine Trintignant",
    "Yvan Attal",
    "Jacques Weber",
    "Bertrand Blier",
    "Emmanuelle Seigner",
    "Roberto Alagna",
    "Michel Fau",
    "Victoria Abril",
    "Dominique Besnehard",
    "Carla Bruni",
    "Pierre Richard",
    "Clémentine Célarié",
    "Gérard Darmon",
    "Rudy Ricciotti",
    "Christophe Barratier",
    "Arielle Dombasle",
    "Francis Veber",
    "Patrice Leconte",
    "Brigitte Fossey",
    "Boualem Sansal",
    "Charles Berling",
    "Yannis Ezziadi",
    "Philippe Caubère",
    "Vincent Perez",
    "Myriam Boyer",
    "Antoine Dulery",
    "Afida Turner",
    "Paolo Branco",
    "Jean-Marie Rouart",
    "Josée Dayan",
    "Joel Seria",
    "Bernard Murat",
    "Serge Toubiana",
    "Catherine Millet",
    "Jacques Henric",
    "Stéphanie Murat",
    "Marie-France Brière",
    "Daniel Humair",
    "Judith Magre",
    "David Bélugou",
    "Marie Beltrami",
    "Tanya Lopert",
    "Jean-Claude Dreyfus",
    "Chiara Muti",
    "Jean-Marie Besset",
    "Stéphane Druet",
    "Christine Boisson",
    "Karine Silla-Perez",
    "Myriam Boisaubert",
    "Lilian Euzéby",
    "Marion Lahmer"
]


wikipedia.set_lang("fr")

def calculer_age(date_str):
    # Configurer localement le langage en français
    locale.setlocale(locale.LC_TIME, 'fr_FR.UTF-8')

    # Convertir la date donnée en objet datetime
    date_obj = datetime.strptime(date_str, '%d %B %Y')

    # Obtenir la date d'aujourd'hui
    aujourdhui = datetime.now()

    # Calculer la différence en années
    difference = aujourdhui - date_obj
    nombre_annees = difference.days / 365.25  # 365.25 jours par année (pour prendre en compte les années bissextiles)

    return int(nombre_annees)


def extraire_age_nom(con):
    try:
        page = wikipedia.page(con)
        sommaire = str(page.summary)

        motif = r"(née|né)( le)? (\d{1,2} \w+ \d{4})"
        correspondance = re.search(motif, sommaire, re.IGNORECASE)
        
        if correspondance:
            date_naissance = correspondance.group(3)
            #print(date_naissance)
            age = calculer_age(date_naissance)
            return age
        else:
            return None
    except wikipedia.exceptions.WikipediaException:
        print(f"Erreur lors de la récupération de la page pour {con}.")
        return None

def alors_ca_donne_quoi(liste):
    L=[]
    for i in liste:
        L.append(extraire_age_nom(i))
    return np.array(list(filter(lambda x: x is not None, L)))
    
L=alors_ca_donne_quoi(celebrities)

Erreur lors de la récupération de la page pour Jacques Dutronc.
Erreur lors de la récupération de la page pour Victoria Abril.
Erreur lors de la récupération de la page pour Carla Bruni.
Erreur lors de la récupération de la page pour Francis Veber.
Erreur lors de la récupération de la page pour Brigitte Fossey.
Erreur lors de la récupération de la page pour Yannis Ezziadi.
Erreur lors de la récupération de la page pour Vincent Perez.
Erreur lors de la récupération de la page pour Afida Turner.
Erreur lors de la récupération de la page pour Paolo Branco.
Erreur lors de la récupération de la page pour David Bélugou.
Erreur lors de la récupération de la page pour Marie Beltrami.
Erreur lors de la récupération de la page pour Myriam Boisaubert.
Erreur lors de la récupération de la page pour Marion Lahmer.


